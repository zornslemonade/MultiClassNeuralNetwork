{
  "nbformat": 4,
  "nbformat_minor": 0,
  "metadata": {
    "colab": {
      "name": "Basic MNIST Classifier.ipynb",
      "provenance": [],
      "collapsed_sections": [
        "okX5jo3G-B9l"
      ],
      "mount_file_id": "1yVvY4b7XeZsDuZooNc2RsJV8xEzBEVcj",
      "authorship_tag": "ABX9TyMR/cneUDgel515D++5XOod",
      "include_colab_link": true
    },
    "kernelspec": {
      "display_name": "Python 3",
      "name": "python3"
    }
  },
  "cells": [
    {
      "cell_type": "markdown",
      "metadata": {
        "id": "view-in-github",
        "colab_type": "text"
      },
      "source": [
        "<a href=\"https://colab.research.google.com/github/zornslemonade/MultiClassNeuralNetwork/blob/main/Basic_MNIST_Classifier.ipynb\" target=\"_parent\"><img src=\"https://colab.research.google.com/assets/colab-badge.svg\" alt=\"Open In Colab\"/></a>"
      ]
    },
    {
      "cell_type": "markdown",
      "metadata": {
        "id": "mMFNZeOA95-l"
      },
      "source": [
        "# MNIST Classifier"
      ]
    },
    {
      "cell_type": "markdown",
      "metadata": {
        "id": "7hNhpV7ilI_m"
      },
      "source": [
        "This is a basic feedforward network which classifies MNIST data, implemented from scratch. It utilizes L2 regularization and ADAM optimization.\r\n"
      ]
    },
    {
      "cell_type": "markdown",
      "metadata": {
        "id": "okX5jo3G-B9l"
      },
      "source": [
        "### Imports"
      ]
    },
    {
      "cell_type": "code",
      "metadata": {
        "id": "sxeVysW-uo20"
      },
      "source": [
        "import numpy as np"
      ],
      "execution_count": null,
      "outputs": []
    },
    {
      "cell_type": "markdown",
      "metadata": {
        "id": "B2_SrNl9-E-0"
      },
      "source": [
        "### Loading the MNIST data"
      ]
    },
    {
      "cell_type": "code",
      "metadata": {
        "colab": {
          "base_uri": "https://localhost:8080/",
          "height": 302
        },
        "id": "zbhAtS5As4g-",
        "outputId": "914c8123-635f-40cb-d4db-87d41bcb4e4c"
      },
      "source": [
        "from keras.datasets import mnist\r\n",
        "from matplotlib import pyplot\r\n",
        "\r\n",
        "(train_data, train_labels), (test_data, test_labels) = mnist.load_data()\r\n",
        "print('Train: X=%s, y=%s' % (train_data.shape, train_labels.shape))\r\n",
        "print('Test: X=%s, y=%s' % (test_data.shape, test_labels.shape))\r\n",
        "for i in range(9):\r\n",
        "\tpyplot.subplot(330 + 1 + i)\r\n",
        "\tpyplot.imshow(train_data[i], cmap=pyplot.get_cmap('Greys'))\r\n",
        "pyplot.show()"
      ],
      "execution_count": null,
      "outputs": [
        {
          "output_type": "stream",
          "text": [
            "Train: X=(60000, 28, 28), y=(60000,)\n",
            "Test: X=(10000, 28, 28), y=(10000,)\n"
          ],
          "name": "stdout"
        },
        {
          "output_type": "display_data",
          "data": {
            "image/png": "[encoded data removed]",
            "text/plain": [
              "<Figure size 432x288 with 9 Axes>"
            ]
          },
          "metadata": {
            "tags": []
          }
        }
      ]
    },
    {
      "cell_type": "code",
      "metadata": {
        "id": "FRUdGK54_HDl"
      },
      "source": [
        "from keras.utils import to_categorical\r\n",
        "\r\n",
        "X_train = train_data[:55000,:,:].reshape((55000,28*28))/255\r\n",
        "X_valid = train_data[55000:,:,:].reshape((5000,28*28))/255\r\n",
        "X_test = test_data.reshape((10000,28*28))/255\r\n",
        "\r\n",
        "y_train = to_categorical(train_labels[:55000].reshape((55000,1)))\r\n",
        "y_valid = to_categorical(train_labels[55000:].reshape((5000,1)))\r\n",
        "y_test = to_categorical(test_labels.reshape((10000,1)))"
      ],
      "execution_count": null,
      "outputs": []
    },
    {
      "cell_type": "markdown",
      "metadata": {
        "id": "_ZAelc5UEyrE"
      },
      "source": [
        "## Neural Network"
      ]
    },
    {
      "cell_type": "markdown",
      "metadata": {
        "id": "rE-Ao7EQFc8H"
      },
      "source": [
        "### Mathematical Functions"
      ]
    },
    {
      "cell_type": "code",
      "metadata": {
        "id": "wndfOnECFe58"
      },
      "source": [
        "def sigmoid(z):\r\n",
        "  a = 1 / (1 + np.exp(-z))\r\n",
        "  return a\r\n",
        "\r\n",
        "def sigmoid_prime(x, a):\r\n",
        "  return a*(1-a)\r\n",
        "\r\n",
        "def tanh(z):\r\n",
        "  return 2*sigmoid(2*z) - 1\r\n",
        "\r\n",
        "def tanh_prime(z, a):\r\n",
        "  return (1 + a)*(1 - a)\r\n",
        "\r\n",
        "def softmax(X):\r\n",
        "  return np.exp(X)/np.sum(np.exp(X), axis=1, keepdims=True)\r\n",
        "\r\n",
        "def logloss(y_1,y_2):\r\n",
        "  return -y_1 * np.log(y_2)\r\n",
        "\r\n",
        "functions = {\"sigmoid\": sigmoid, \"tanh\": tanh, \"softmax\": softmax}\r\n",
        "derivatives = {\"sigmoid\": sigmoid_prime, \"tanh\": tanh_prime}"
      ],
      "execution_count": null,
      "outputs": []
    },
    {
      "cell_type": "markdown",
      "metadata": {
        "id": "PLjepQCXFjmp"
      },
      "source": [
        "### Creating the Network"
      ]
    },
    {
      "cell_type": "code",
      "metadata": {
        "id": "JFhGmFDvFldo"
      },
      "source": [
        "class network:\r\n",
        "  def __init__(self, layer_dims, hidden_activation_functions = None, learning_rate = .01):\r\n",
        "    # To avoid divisions by zero when necessary\r\n",
        "    self.epsilon = 10**-8\r\n",
        "\r\n",
        "    self.layer_dims = layer_dims\r\n",
        "\r\n",
        "    # If the hidden layer activation functions are not specified, assume tanh\r\n",
        "    # The final layer is always the softmax function\r\n",
        "    # The cost function is always m\r\n",
        "    if not hidden_activation_functions == None:\r\n",
        "      self.activation_functions = hidden_activation_functions\r\n",
        "    else:\r\n",
        "      self.activation_functions = [None]\r\n",
        "      for k in range(1,len(layer_dims)-1):\r\n",
        "        self.activation_functions.append(\"tanh\")\r\n",
        "    self.activation_functions.append(\"softmax\")\r\n",
        "\r\n",
        "    self.learning_rate = learning_rate\r\n",
        "\r\n",
        "    self.initialize_parameters()\r\n",
        "  \r\n",
        "  def initialize_parameters(self):\r\n",
        "\r\n",
        "    # Arrays of dictionaries are kept to facilitate the forwards and backwards passes\r\n",
        "    # Each includes a dictionary for every layer (including the input layer)\r\n",
        "    self.params = [{}]\r\n",
        "    self.vs = [{}]\r\n",
        "    self.ss = [{}]\r\n",
        "    self.grads = [{}]\r\n",
        "    self.caches = [{}]\r\n",
        "\r\n",
        "    for l in range(1, len(self.layer_dims)):\r\n",
        "      param = {}\r\n",
        "      v = {}\r\n",
        "      s = {}\r\n",
        "      grad = {}\r\n",
        "      cache = {}\r\n",
        "\r\n",
        "      # Weights and biases\r\n",
        "      # Weights are initialized to have 0 mean and variance 1/n, where n is the\r\n",
        "      # size of the previous layer (Xavier initialization)\r\n",
        "      param['W'] = 1/self.layer_dims[l-1] * np.random.randn(self.layer_dims[l-1],self.layer_dims[l])\r\n",
        "      param['b'] = np.zeros((1,self.layer_dims[l]))\r\n",
        "\r\n",
        "      # Momentum and second moment moving averages\r\n",
        "      v['W'] = np.zeros((self.layer_dims[l-1],self.layer_dims[l]))\r\n",
        "      s['W'] = np.zeros((self.layer_dims[l-1],self.layer_dims[l]))\r\n",
        "      v['b'] = np.zeros((1,self.layer_dims[l]))\r\n",
        "      s['b'] = np.zeros((1,self.layer_dims[l]))\r\n",
        "\r\n",
        "      self.params.append(param)\r\n",
        "      self.vs.append(v)\r\n",
        "      self.ss.append(s)\r\n",
        "      self.grads.append(grad)\r\n",
        "      self.caches.append(cache)\r\n",
        "  \r\n",
        "  def current_output(self):\r\n",
        "    return self.caches[-1]['A']\r\n",
        "\r\n",
        "  def forward_propagate(self, X):\r\n",
        "    # Propagate an input forward through the network\r\n",
        "\r\n",
        "    # All node activations will be stored in a cache for later use\r\n",
        "    self.caches[0]['A'] = X\r\n",
        "\r\n",
        "    for l in range(1, len(self.layer_dims)):\r\n",
        "      A_prev = self.caches[l-1]['A']\r\n",
        "      W = self.params[l]['W']\r\n",
        "      b = self.params[l]['b']\r\n",
        "      Z = A_prev @ W + b\r\n",
        "\r\n",
        "      # The output layer has a different activation function than the hidden layers\r\n",
        "      A = functions[self.activation_functions[l]](Z)\r\n",
        "\r\n",
        "      self.caches[l]['Z'] = Z\r\n",
        "      self.caches[l]['A'] = A\r\n",
        "\r\n",
        "  def cost(self, X, Y, A = None):\r\n",
        "    # Compute the cost of an input given a target\r\n",
        "    if A == None:\r\n",
        "      self.forward_propagate(X)\r\n",
        "      A = self.current_output()\r\n",
        "    cost = np.mean(np.sum(logloss(Y,A), axis=1, keepdims=True))\r\n",
        "    return cost\r\n",
        "  \r\n",
        "  def classify(self, X):\r\n",
        "    # Classify an input\r\n",
        "    self.forward_propagate(X)\r\n",
        "    labels = np.argmax(self.current_output(), axis=1)\r\n",
        "    return labels\r\n",
        "\r\n",
        "  def accuracy(self, X, Y, A = None):\r\n",
        "    # Compute the accuracy of the classification of an input\r\n",
        "    if A == None:\r\n",
        "      self.forward_propagate(X)\r\n",
        "      A = self.current_output()\r\n",
        "    labels = np.argmax(A, axis=1)\r\n",
        "    truth = np.argmax(Y, axis=1)\r\n",
        "    totals = np.sum(Y, axis=0).astype(int)\r\n",
        "    counts = np.zeros(totals.shape).astype(int)\r\n",
        "    for k in range(len(truth)):\r\n",
        "      if labels[k] == truth[k]:\r\n",
        "        counts[labels[k]] += 1\r\n",
        "    accuracies = counts/totals\r\n",
        "\r\n",
        "    for k in range(len(totals)):\r\n",
        "      print(\"Category {}:\".format(k))\r\n",
        "      print(\"\\tClassifed {} of {} samples correctly, for an accuracy of {}%.\".format(counts[k],totals[k],round(100*accuracies[k],2)))\r\n",
        "      print()\r\n",
        "    \r\n",
        "    count = np.sum(counts)\r\n",
        "    total = np.sum(totals)\r\n",
        "    accuracy = count/total\r\n",
        "    print(\"Overall classified {} of {} samples correctly, for an accuracy of {}%.\".format(count, total, round(100*accuracy,2)))\r\n",
        "    return accuracy\r\n",
        "\r\n",
        "  \r\n",
        "  def backward_propagate_step(self, l, Y):\r\n",
        "    # Propagate gradients backward through the network, using the current cache\r\n",
        "    # This should not be called if forward_propagate has not been called at least once\r\n",
        "    Z = self.caches[l]['Z']\r\n",
        "    A = self.caches[l]['A']\r\n",
        "    # The output layer has a different gradient than the hidden layers\r\n",
        "    if l != len(self.layer_dims)-1:\r\n",
        "      W_next = self.params[l+1]['W']\r\n",
        "      DZ_next = self.grads[l+1]['DZ']\r\n",
        "      DZ = (DZ_next @ W_next.transpose()) * derivatives[self.activation_functions[l]](Z,A)\r\n",
        "    else:\r\n",
        "      DZ = A - Y  ###softmax is hardcoded currently! (need to allow arb activations still!)\r\n",
        "\r\n",
        "    A_prev = self.caches[l-1]['A']\r\n",
        "    m = A_prev.shape[1] # Number of samples in the last input (possibly a mini-batch)\r\n",
        "      \r\n",
        "    DW = 1/m*(A_prev.transpose() @ DZ)\r\n",
        "    Db = np.mean(DZ, axis=0, keepdims=True)\r\n",
        "\r\n",
        "    # Store the gradients for future use\r\n",
        "    self.grads[l]['DZ'] = DZ\r\n",
        "    self.grads[l]['DW'] = DW\r\n",
        "    self.grads[l]['Db'] = Db\r\n",
        "  \r\n",
        "  def update_parameters_step(self, l, n, t, alpha, lambd=0, beta_1=0, beta_2=None):\r\n",
        "    # Update the weights and biases using gradient descent\r\n",
        "    # Optionally use regularization and moment optimization\r\n",
        "    # n: number of samples (not mini-batch size)\r\n",
        "    # t: current update count\r\n",
        "    # alpha: learning rate\r\n",
        "    # lambd: regularization parameter (defaults to no regularization)\r\n",
        "    # beta_1: momentum optimization parameter (defaults to no momentum optimization)\r\n",
        "    # beta_2: second moment optimization parameter (defaults to no second moment optimization)\r\n",
        "\r\n",
        "    # Calculate momentum (if beta_1 = 0 then this reduces to just the gradient)\r\n",
        "    VW = beta_1 * self.vs[l]['W'] + (1 - beta_1) * self.grads[l]['DW']\r\n",
        "    Vb = beta_1 * self.vs[l]['b'] + (1 - beta_1) * self.grads[l]['Db']\r\n",
        "    self.vs[l]['W'] = VW\r\n",
        "    self.vs[l]['b'] = Vb\r\n",
        "    if not beta_1 == 1:\r\n",
        "      VW = VW / (1 - beta_1**(t+1))\r\n",
        "      Vb = Vb / (1 - beta_1**(t+1))\r\n",
        "\r\n",
        "    # The momentum-optimized adjustment\r\n",
        "    deltaW = VW\r\n",
        "    deltab = Vb\r\n",
        "\r\n",
        "    # Calculate second moment\r\n",
        "    if not beta_2 == None:\r\n",
        "      SW = beta_2 * self.ss[l]['W'] + (1 - beta_2) * self.grads[l]['DW'] * self.grads[l]['DW']\r\n",
        "      Sb = beta_2 * self.ss[l]['b'] + (1 - beta_2) * self.grads[l]['Db'] * self.grads[l]['Db']\r\n",
        "      self.ss[l]['W'] = SW\r\n",
        "      self.ss[l]['b'] = Sb\r\n",
        "      if not beta_2 == 1:\r\n",
        "        SW = SW / (1 - beta_2**(t+1))\r\n",
        "        Sb = Sb / (1 - beta_2**(t+1))\r\n",
        "\r\n",
        "      # The second-moment-optimized adjustment\r\n",
        "      deltaW = deltaW / (np.sqrt(SW) + self.epsilon)\r\n",
        "      deltab = deltab / (np.sqrt(Sb) + self.epsilon)\r\n",
        "    \r\n",
        "    self.params[l]['W'] = (1-alpha*lambd/n)*self.params[l]['W'] - alpha * deltaW\r\n",
        "    self.params[l]['b'] = (1-alpha*lambd/n)*self.params[l]['b'] - alpha * deltab\r\n",
        "        \r\n",
        "  def model(self, X, Y, epochs = 1000, mini_batch_size = None, learning_rate = None, learning_rate_decay = .1, regularization = 0, momentum = 0, second_moment = None, update_every = 100, snapshots_on=[]):\r\n",
        "      # Perform gradient descent\r\n",
        "\r\n",
        "      n = X.shape[0] # Number of samples\r\n",
        "\r\n",
        "      label_sets = []\r\n",
        "      # A specific learning rate may be provided\r\n",
        "      if learning_rate == None: learning_rate = self.learning_rate\r\n",
        "      \r\n",
        "      t = 0\r\n",
        "      for k in range(epochs):\r\n",
        "        if k % update_every == 0:\r\n",
        "          cost = self.cost(X, Y)   \r\n",
        "          print(\"Cost after {} epochs: {}\".format(k, cost))\r\n",
        "        if k in snapshots_on:\r\n",
        "          label_sets.append(self.classify(X)) \r\n",
        "\r\n",
        "        if mini_batch_size != None:\r\n",
        "          mini_batches = self.random_mini_batches(X, Y, mini_batch_size)\r\n",
        "        else:\r\n",
        "          mini_batches = (X,Y)\r\n",
        "        \r\n",
        "        for mini_batch in mini_batches:\r\n",
        "          (mini_batch_X, mini_batch_Y) = mini_batch\r\n",
        "          self.forward_propagate(mini_batch_X)\r\n",
        "          for l in reversed(range(1,len(self.layer_dims))):\r\n",
        "            self.backward_propagate_step(l, mini_batch_Y)\r\n",
        "            self.update_parameters_step(l, n, t, learning_rate/(1+learning_rate_decay*k), regularization, momentum, second_moment)\r\n",
        "\r\n",
        "        t += 1\r\n",
        "\r\n",
        "      cost = self.cost(X, Y)\r\n",
        "      label_sets.append(np.argmax(self.current_output(), axis=0))\r\n",
        "      print(\"Cost after {} epochs: {}\".format(k+1, cost))\r\n",
        "      return label_sets\r\n",
        "\r\n",
        "  def random_mini_batches(self, X, Y, mini_batch_size):\r\n",
        "    # Divide up the input into mini-batches\r\n",
        "    # Minibatches can speed up gradient descent\r\n",
        "    n = X.shape[0] \r\n",
        "    mini_batches = []\r\n",
        "    \r\n",
        "    shuffle = list(np.random.permutation(n))\r\n",
        "    shuffled_X = X[shuffle, :]\r\n",
        "    shuffled_Y = Y[shuffle, :]\r\n",
        "\r\n",
        "    num_complete_minibatches = int(n/mini_batch_size)\r\n",
        "    for k in range(num_complete_minibatches):\r\n",
        "        mini_batch_X = shuffled_X[k*mini_batch_size : (k+1)*mini_batch_size, :]\r\n",
        "        mini_batch_Y = shuffled_Y[k*mini_batch_size : (k+1)*mini_batch_size, :]\r\n",
        "        mini_batch = (mini_batch_X, mini_batch_Y)\r\n",
        "        mini_batches.append(mini_batch)\r\n",
        "    \r\n",
        "    # For when the mini-batch size does not divide the input size\r\n",
        "    if n % mini_batch_size != 0:\r\n",
        "        mini_batch_X = shuffled_X[num_complete_minibatches*mini_batch_size :, :]\r\n",
        "        mini_batch_Y = shuffled_Y[num_complete_minibatches*mini_batch_size :, :]\r\n",
        "        mini_batch = (mini_batch_X, mini_batch_Y)\r\n",
        "        mini_batches.append(mini_batch)\r\n",
        "    \r\n",
        "    return mini_batches"
      ],
      "execution_count": null,
      "outputs": []
    },
    {
      "cell_type": "markdown",
      "metadata": {
        "id": "U_QbnGv5GxFA"
      },
      "source": [
        "## Testing"
      ]
    },
    {
      "cell_type": "code",
      "metadata": {
        "id": "sgR2Ve9cGyUV"
      },
      "source": [
        "net = network([28*28,30,30,10])"
      ],
      "execution_count": null,
      "outputs": []
    },
    {
      "cell_type": "code",
      "metadata": {
        "colab": {
          "background_save": true,
          "base_uri": "https://localhost:8080/"
        },
        "id": "bCFw54pkG4QV",
        "outputId": "c8910c03-2e95-4fd7-f468-3670922282bb"
      },
      "source": [
        "label_sets = net.model(X_train, y_train, 1000, 128, .01, .1, .1, .9,.999, 100)"
      ],
      "execution_count": null,
      "outputs": [
        {
          "output_type": "stream",
          "text": [
            "Cost after 0 epochs: 2.3025957178417937\n",
            "Cost after 100 epochs: 0.005419255273184586\n",
            "Cost after 200 epochs: 0.0003871310640111724\n",
            "Cost after 300 epochs: 1.6636924897789525e-05\n",
            "Cost after 400 epochs: 1.3754316049482397e-06\n",
            "Cost after 500 epochs: 1.1767780809083184e-07\n",
            "Cost after 600 epochs: 1.2571680662402175e-08\n",
            "Cost after 700 epochs: 3.537310863538408e-09\n",
            "Cost after 800 epochs: 1.8017968392798724e-09\n",
            "Cost after 900 epochs: 1.1967011122780531e-09\n",
            "Cost after 1000 epochs: 9.051353009136458e-10\n"
          ],
          "name": "stdout"
        }
      ]
    },
    {
      "cell_type": "code",
      "metadata": {
        "colab": {
          "background_save": true
        },
        "id": "f4d7uw2GHAZl",
        "outputId": "3e5d4d89-d11a-4183-b007-130e6743dd02"
      },
      "source": [
        "net.accuracy(X_train, y_train)"
      ],
      "execution_count": null,
      "outputs": [
        {
          "output_type": "stream",
          "text": [
            "Category 0:\n",
            "\tClassifed 5434 of 5434 samples correctly, for an accuracy of 100.0%.\n",
            "\n",
            "Category 1:\n",
            "\tClassifed 6212 of 6212 samples correctly, for an accuracy of 100.0%.\n",
            "\n",
            "Category 2:\n",
            "\tClassifed 5465 of 5465 samples correctly, for an accuracy of 100.0%.\n",
            "\n",
            "Category 3:\n",
            "\tClassifed 5622 of 5622 samples correctly, for an accuracy of 100.0%.\n",
            "\n",
            "Category 4:\n",
            "\tClassifed 5343 of 5343 samples correctly, for an accuracy of 100.0%.\n",
            "\n",
            "Category 5:\n",
            "\tClassifed 4963 of 4963 samples correctly, for an accuracy of 100.0%.\n",
            "\n",
            "Category 6:\n",
            "\tClassifed 5436 of 5436 samples correctly, for an accuracy of 100.0%.\n",
            "\n",
            "Category 7:\n",
            "\tClassifed 5702 of 5702 samples correctly, for an accuracy of 100.0%.\n",
            "\n",
            "Category 8:\n",
            "\tClassifed 5357 of 5357 samples correctly, for an accuracy of 100.0%.\n",
            "\n",
            "Category 9:\n",
            "\tClassifed 5466 of 5466 samples correctly, for an accuracy of 100.0%.\n",
            "\n",
            "Overall classified 55000 of 55000 samples correctly, for an accuracy of 100.0%.\n"
          ],
          "name": "stdout"
        },
        {
          "output_type": "execute_result",
          "data": {
            "text/plain": [
              "1.0"
            ]
          },
          "metadata": {
            "tags": []
          },
          "execution_count": 0
        }
      ]
    },
    {
      "cell_type": "code",
      "metadata": {
        "colab": {
          "background_save": true
        },
        "id": "mB6fJK22HTpw",
        "outputId": "1b138ab2-c337-483f-8ac4-8611abdbd521"
      },
      "source": [
        "net.accuracy(X_test, y_test)"
      ],
      "execution_count": null,
      "outputs": [
        {
          "output_type": "stream",
          "text": [
            "Category 0:\n",
            "\tClassifed 953 of 980 samples correctly, for an accuracy of 97.24%.\n",
            "\n",
            "Category 1:\n",
            "\tClassifed 1116 of 1135 samples correctly, for an accuracy of 98.33%.\n",
            "\n",
            "Category 2:\n",
            "\tClassifed 983 of 1032 samples correctly, for an accuracy of 95.25%.\n",
            "\n",
            "Category 3:\n",
            "\tClassifed 959 of 1010 samples correctly, for an accuracy of 94.95%.\n",
            "\n",
            "Category 4:\n",
            "\tClassifed 937 of 982 samples correctly, for an accuracy of 95.42%.\n",
            "\n",
            "Category 5:\n",
            "\tClassifed 838 of 892 samples correctly, for an accuracy of 93.95%.\n",
            "\n",
            "Category 6:\n",
            "\tClassifed 927 of 958 samples correctly, for an accuracy of 96.76%.\n",
            "\n",
            "Category 7:\n",
            "\tClassifed 962 of 1028 samples correctly, for an accuracy of 93.58%.\n",
            "\n",
            "Category 8:\n",
            "\tClassifed 903 of 974 samples correctly, for an accuracy of 92.71%.\n",
            "\n",
            "Category 9:\n",
            "\tClassifed 954 of 1009 samples correctly, for an accuracy of 94.55%.\n",
            "\n",
            "Overall classified 9532 of 10000 samples correctly, for an accuracy of 95.32%.\n"
          ],
          "name": "stdout"
        },
        {
          "output_type": "execute_result",
          "data": {
            "text/plain": [
              "0.9532"
            ]
          },
          "metadata": {
            "tags": []
          },
          "execution_count": 0
        }
      ]
    },
    {
      "cell_type": "code",
      "metadata": {
        "colab": {
          "background_save": true
        },
        "id": "1dSid5yTBwqV",
        "outputId": "3278118d-fe23-449d-af7a-855a97cfe686"
      },
      "source": [
        "n = 8\r\n",
        "print(\"I think it's a {}\".format(net.classify(X_test)[n]))\r\n",
        "print(\"It's really a {}\".format(test_labels[n]))\r\n",
        "print()\r\n",
        "pyplot.imshow(test_data[n], cmap=pyplot.get_cmap('Greys'))\r\n",
        "pyplot.show()\r\n"
      ],
      "execution_count": null,
      "outputs": [
        {
          "output_type": "stream",
          "text": [
            "I think it's a 5\n",
            "It's really a 5\n",
            "\n"
          ],
          "name": "stdout"
        },
        {
          "output_type": "display_data",
          "data": {
            "image/png": "[encoded data removed]",
            "text/plain": [
              "<Figure size 432x288 with 1 Axes>"
            ]
          },
          "metadata": {
            "tags": []
          }
        }
      ]
    },
    {
      "cell_type": "code",
      "metadata": {
        "colab": {
          "background_save": true
        },
        "id": "gryBv45ZCGdl"
      },
      "source": [
        ""
      ],
      "execution_count": null,
      "outputs": []
    }
  ]
}